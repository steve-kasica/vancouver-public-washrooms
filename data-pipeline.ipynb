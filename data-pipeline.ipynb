{
 "cells": [
  {
   "cell_type": "markdown",
   "metadata": {},
   "source": [
    "## Vancouver Public Washrooms\n",
    "\n",
    "A notebook for exporting the [Vancouver Public Washrooms dataset](https://opendata.vancouver.ca/explore/dataset/public-washrooms/information/) to GPX."
   ]
  },
  {
   "cell_type": "code",
   "execution_count": 1,
   "metadata": {},
   "outputs": [],
   "source": [
    "import requests\n",
    "import gpxpy.gpx\n",
    "from datetime import datetime"
   ]
  },
  {
   "cell_type": "markdown",
   "metadata": {},
   "source": [
    "First, make a request to see how many records are in this dataset, logged in the `nhits` field."
   ]
  },
  {
   "cell_type": "code",
   "execution_count": 2,
   "metadata": {},
   "outputs": [
    {
     "name": "stdout",
     "output_type": "stream",
     "text": [
      "As of 2020-12-29, there are 106 public restrooms listed in this dataset\n"
     ]
    }
   ],
   "source": [
    "url = 'https://opendata.vancouver.ca/api/records/1.0/search/'\n",
    "res = requests.get(url, params={'dataset': 'public-washrooms'})\n",
    "nrows = res.json()['nhits']\n",
    "now = datetime.now()\n",
    "print('As of {}-{}-{}, there are {} public restrooms listed in this dataset'.format(now.year, now.month, now.day, nrows))"
   ]
  },
  {
   "cell_type": "markdown",
   "metadata": {},
   "source": [
    "## Fetching data\n",
    "Now that I know how many records there are, I download them all in one request."
   ]
  },
  {
   "cell_type": "code",
   "execution_count": 3,
   "metadata": {},
   "outputs": [],
   "source": [
    "payload = {\n",
    "    'dataset': 'public-washrooms',\n",
    "    'rows': nrows,\n",
    "    'facet': ['type', 'summer_hours', 'winter_hours', 'wheel_access', 'maintainer', 'geo_local_area'],\n",
    "}\n",
    "res = requests.get(url, params=payload)\n",
    "data = dict(res.json())\n",
    "records = data['records']"
   ]
  },
  {
   "cell_type": "markdown",
   "metadata": {},
   "source": [
    "Upon inspecting the first three records, it seems all the salient information is in the `fields` dictionary."
   ]
  },
  {
   "cell_type": "code",
   "execution_count": 4,
   "metadata": {},
   "outputs": [
    {
     "data": {
      "text/plain": [
       "[{'datasetid': 'public-washrooms',\n",
       "  'recordid': '793e7960e380aa663040ad6bc95f66c0cdc77236',\n",
       "  'fields': {'maintainer': 'Parks & Recreation',\n",
       "   'name': 'Adanac Park',\n",
       "   'wheel_access': 'No',\n",
       "   'primaryind': '1',\n",
       "   'note': 'Caretaker on site',\n",
       "   'summer_hours': 'Dawn to Dusk',\n",
       "   'geom': {'type': 'Point',\n",
       "    'coordinates': [-123.024071960319, 49.2758809677686]},\n",
       "   'location': 'East side, fieldhouse',\n",
       "   'address': '1025 Boundary Road',\n",
       "   'winter_hours': 'Dawn to Dusk',\n",
       "   'type': 'Public Toilet in Park',\n",
       "   'geo_local_area': 'Hastings-Sunrise'},\n",
       "  'record_timestamp': '2020-10-15T10:31:50.455000+00:00'},\n",
       " {'datasetid': 'public-washrooms',\n",
       "  'recordid': '7a670401a7376b658683fbfabd6eba6855d20896',\n",
       "  'fields': {'maintainer': 'Parks & Recreation',\n",
       "   'name': 'Balaclava Park',\n",
       "   'wheel_access': 'No',\n",
       "   'primaryind': '3',\n",
       "   'note': 'Caretaker on site',\n",
       "   'summer_hours': 'Dawn to Dusk',\n",
       "   'geom': {'type': 'Point',\n",
       "    'coordinates': [-123.175460949361, 49.2452339943975]},\n",
       "   'location': 'Central, field house',\n",
       "   'address': '4594 Balaclava Street',\n",
       "   'winter_hours': 'Dawn to Dusk',\n",
       "   'type': 'Public Toilet in Park',\n",
       "   'geo_local_area': 'Dunbar-Southlands'},\n",
       "  'record_timestamp': '2020-10-15T10:31:50.455000+00:00'},\n",
       " {'datasetid': 'public-washrooms',\n",
       "  'recordid': 'f518aea63395ed86439951693f7aedac136c4f77',\n",
       "  'fields': {'maintainer': 'Parks & Recreation',\n",
       "   'name': 'Beaconsfield Park',\n",
       "   'wheel_access': 'No',\n",
       "   'primaryind': '5',\n",
       "   'note': 'Caretaker on site',\n",
       "   'summer_hours': 'Dawn to Dusk',\n",
       "   'geom': {'type': 'Point',\n",
       "    'coordinates': [-123.049933959326, 49.2552329902121]},\n",
       "   'location': 'East side, fieldhouse',\n",
       "   'address': '3215 Slocan Street',\n",
       "   'winter_hours': 'Dawn to Dusk',\n",
       "   'type': 'Public Toilet in Park',\n",
       "   'geo_local_area': 'Renfrew-Collingwood'},\n",
       "  'record_timestamp': '2020-10-15T10:31:50.455000+00:00'}]"
      ]
     },
     "execution_count": 4,
     "metadata": {},
     "output_type": "execute_result"
    }
   ],
   "source": [
    "records[0:3]"
   ]
  },
  {
   "cell_type": "markdown",
   "metadata": {},
   "source": [
    "## Convert to GPX\n",
    "\n",
    "I'll convert and modify this JSON data into GPX format. I'll also modify some fields, such as combining many fields into a the `description`."
   ]
  },
  {
   "cell_type": "code",
   "execution_count": 5,
   "metadata": {},
   "outputs": [
    {
     "name": "stdout",
     "output_type": "stream",
     "text": [
      "<?xml version=\"1.0\" encoding=\"UTF-8\"?>\n",
      "<gpx xmlns=\"http://www.topografix.com/GPX/1/1\" xmlns:xsi=\"http://www.w3.org/2001/XMLSchema-instance\" xsi:schemaLocation=\"http://www.topografix.com/GPX/1/1 http://www.topografix.com/GPX/1/1/gpx.xsd\" version=\"1.1\" creator=\"Steve Kasica, kasica@alumni.ubc.ca\">\n",
      "  <metadata>\n",
      "    <name>Vancouver Public Washrooms</name>\n",
      "    <desc>Public washrooms in Vancouver</desc>\n",
      "  </metadata>\n",
      "  <wpt lat=\"49.2758809677686\" lon=\"-123.024071960319\">\n",
      "    <time>2020-10-15T10:31:50.455000Z</time>\n",
      "    <name>Adanac Park Washroom</name>\n",
      "    <desc>A public toilet in park, open from dawn to dusk with no wheelchair access</desc>\n",
      "    <src>City of Vancouver</src>\n",
      "    <sym>Restroom</sym>\n",
      "    <type>Public washroom</type>\n",
      "  </wpt>\n",
      "  <wpt lat=\"49.2452339943975\" lon=\"-123.175460949361\">\n",
      "    <time>2020-10-15T10:31:50.455000Z</time>\n",
      "    <name>Balaclava Park Washroom</name>\n",
      "    <desc>A public toilet in park, open from dawn to dusk with no wheelchair access</desc>\n",
      "    <src>City of Vancouver</src>\n",
      "    <sym>Restroom</sym>\n",
      "    <type>Public washroom</type>\n",
      "  </wpt>\n",
      "  <wpt lat=\"49.25523299021\n",
      "...\n"
     ]
    }
   ],
   "source": [
    "def format_description(fields):\n",
    "    ''''''    \n",
    "    out = ''\n",
    "    out += 'A {}, '.format(fields['type'].lower())\n",
    "    out += 'open from '\n",
    "    if fields['summer_hours'] != fields['winter_hours']:\n",
    "        out += '{} in the summer, but {} in the winter.'.format(fields['summer_hours'].lower(), fields['winter_hours'].lower())\n",
    "    else:\n",
    "        out += fields['summer_hours'].lower()\n",
    "    \n",
    "    if fields['wheel_access'] == 'Yes':\n",
    "        out += ' with wheelchair access'\n",
    "    else:\n",
    "        out += ' with no wheelchair access'\n",
    "    return out\n",
    "\n",
    "gpx = gpxpy.gpx.GPX()\n",
    "gpx.creator = 'Steve Kasica, kasica@alumni.ubc.ca'\n",
    "gpx.name = 'Vancouver Public Washrooms'\n",
    "gpx.description = 'Public washrooms in Vancouver'\n",
    "desc_template = 'A {washroom_type} open.'\n",
    "for r in records:\n",
    "    wps = gpxpy.gpx.GPXWaypoint()\n",
    "    wps.latitude = r['fields']['geom']['coordinates'][1]\n",
    "    wps.longitude = r['fields']['geom']['coordinates'][0]\n",
    "    wps.source = 'City of Vancouver'\n",
    "    wps.time = datetime.strptime(r['record_timestamp'], '%Y-%m-%dT%H:%M:%S.%f+00:00')\n",
    "    wps.type = 'Public washroom'\n",
    "    wps.symbol = 'Restroom'\n",
    "    wps.name = r['fields']['name'] + ' Washroom'\n",
    "    wps.description = format_description(r['fields'])\n",
    "    wps.fix = '2d'\n",
    "    gpx.waypoints.append(wps)\n",
    "\n",
    "print(gpx.to_xml()[0:1100] + '\\n...')"
   ]
  },
  {
   "cell_type": "markdown",
   "metadata": {},
   "source": [
    "## Export data\n",
    "Finally, I'll write this data to disk as a GPX file."
   ]
  },
  {
   "cell_type": "code",
   "execution_count": 6,
   "metadata": {},
   "outputs": [],
   "source": [
    "with open('vancouver-public-washrooms.gpx', 'w') as f:\n",
    "    xml = gpx.to_xml()\n",
    "    f.write(xml)"
   ]
  }
 ],
 "metadata": {
  "kernelspec": {
   "display_name": "Python 3",
   "language": "python",
   "name": "python3"
  },
  "language_info": {
   "codemirror_mode": {
    "name": "ipython",
    "version": 3
   },
   "file_extension": ".py",
   "mimetype": "text/x-python",
   "name": "python",
   "nbconvert_exporter": "python",
   "pygments_lexer": "ipython3",
   "version": "3.8.5"
  }
 },
 "nbformat": 4,
 "nbformat_minor": 4
}
